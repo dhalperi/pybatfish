{
 "cells": [
  {
   "cell_type": "code",
   "execution_count": 1,
   "metadata": {},
   "outputs": [
    {
     "name": "stderr",
     "output_type": "stream",
     "text": [
      "Successfully loaded 55 questions from remote\n"
     ]
    }
   ],
   "source": [
    "from pybatfish.client.commands import *\n",
    "from pybatfish.datamodel import *\n",
    "from pybatfish.question import bfq, load_questions\n",
    "\n",
    "load_questions()"
   ]
  },
  {
   "cell_type": "code",
   "execution_count": 5,
   "metadata": {},
   "outputs": [],
   "source": [
    "from pybatfish.client.capirca import create_reference_book, init_snapshot_from_acl"
   ]
  },
  {
   "cell_type": "code",
   "execution_count": 7,
   "metadata": {},
   "outputs": [],
   "source": [
    "b = create_reference_book('capirca/defs/')"
   ]
  },
  {
   "cell_type": "code",
   "execution_count": 8,
   "metadata": {},
   "outputs": [
    {
     "data": {
      "text/html": [
       "ReferenceBook(name=&#x27;capirca&#x27;, addressGroups=[AddressGroup(name=&#x27;HOST_BITS&#x27;, addresses=[&#x27;1.0.0.0/8&#x27;], childGroupNames=[]), AddressGroup(name=&#x27;RFC1918_10&#x27;, addresses=[&#x27;10.0.0.0/8&#x27;], childGroupNames=[]), AddressGroup(name=&#x27;RFC1918_172&#x27;, addresses=[&#x27;172.16.0.0/12&#x27;], childGroupNames=[]), AddressGroup(name=&#x27;RFC1918_192&#x27;, addresses=[&#x27;192.168.0.0/16&#x27;], childGroupNames=[]), AddressGroup(name=&#x27;RFC1918&#x27;, addresses=[], childGroupNames=[&#x27;RFC1918_10&#x27;, &#x27;RFC1918_172&#x27;, &#x27;RFC1918_192&#x27;]), AddressGroup(name=&#x27;LOOPBACK&#x27;, addresses=[&#x27;127.0.0.0/8&#x27;], childGroupNames=[]), AddressGroup(name=&#x27;RFC_5737_DOCUMENTATION_BLOCKS&#x27;, addresses=[&#x27;192.0.2.0/24&#x27;, &#x27;198.51.100.0/24&#x27;, &#x27;203.0.113.0/24&#x27;], childGroupNames=[]), AddressGroup(name=&#x27;BGP_SPEAKERS&#x27;, addresses=[&#x27;203.0.113.16/28&#x27;], childGroupNames=[]), AddressGroup(name=&#x27;INTERNAL_SERVERS&#x27;, addresses=[&#x27;203.0.113.36/30&#x27;], childGroupNames=[]), AddressGroup(name=&#x27;MAIL_SERVERS&#x27;, addresses=[&#x27;203.0.113.32/29&#x27;], childGroupNames=[]), AddressGroup(name=&#x27;OUTLOOK_SERVERS&#x27;, addresses=[&#x27;203.0.113.32/30&#x27;], childGroupNames=[]), AddressGroup(name=&#x27;WEB_SERVERS&#x27;, addresses=[&#x27;203.0.113.0/24&#x27;], childGroupNames=[])], interfaceGroups=[])"
      ],
      "text/plain": [
       "ReferenceBook(name='capirca', addressGroups=[AddressGroup(name='HOST_BITS', addresses=['1.0.0.0/8'], childGroupNames=[]), AddressGroup(name='RFC1918_10', addresses=['10.0.0.0/8'], childGroupNames=[]), AddressGroup(name='RFC1918_172', addresses=['172.16.0.0/12'], childGroupNames=[]), AddressGroup(name='RFC1918_192', addresses=['192.168.0.0/16'], childGroupNames=[]), AddressGroup(name='RFC1918', addresses=[], childGroupNames=['RFC1918_10', 'RFC1918_172', 'RFC1918_192']), AddressGroup(name='LOOPBACK', addresses=['127.0.0.0/8'], childGroupNames=[]), AddressGroup(name='RFC_5737_DOCUMENTATION_BLOCKS', addresses=['192.0.2.0/24', '198.51.100.0/24', '203.0.113.0/24'], childGroupNames=[]), AddressGroup(name='BGP_SPEAKERS', addresses=['203.0.113.16/28'], childGroupNames=[]), AddressGroup(name='INTERNAL_SERVERS', addresses=['203.0.113.36/30'], childGroupNames=[]), AddressGroup(name='MAIL_SERVERS', addresses=['203.0.113.32/29'], childGroupNames=[]), AddressGroup(name='OUTLOOK_SERVERS', addresses=['203.0.113.32/30'], childGroupNames=[]), AddressGroup(name='WEB_SERVERS', addresses=['203.0.113.0/24'], childGroupNames=[])], interfaceGroups=[])"
      ]
     },
     "execution_count": 8,
     "metadata": {},
     "output_type": "execute_result"
    }
   ],
   "source": [
    "b"
   ]
  },
  {
   "cell_type": "code",
   "execution_count": null,
   "metadata": {},
   "outputs": [],
   "source": [
    "from pybatfish.client.extended import *\n",
    "print(bf_get_snapshot_input_object_text('configs/config', snapshot=juniper_border))"
   ]
  },
  {
   "cell_type": "code",
   "execution_count": null,
   "metadata": {
    "scrolled": true
   },
   "outputs": [],
   "source": [
    "# 3+ Now do further, comprehensive ACL checks using Batfish.\n",
    "bfq.filterLineReachability().answer(juniper_border)"
   ]
  },
  {
   "cell_type": "code",
   "execution_count": null,
   "metadata": {},
   "outputs": [],
   "source": [
    "# Assert equivalence between Cisco and Juniper capirca renderings (no results)\n",
    "bfq.searchFilters().answer(arista_border, juniper_border)"
   ]
  },
  {
   "cell_type": "code",
   "execution_count": null,
   "metadata": {},
   "outputs": [],
   "source": [
    "from pybatfish.client.capirca import create_reference_book\n",
    "b = create_reference_book(DEFS_DIR)\n",
    "bf_put_reference_book(b)"
   ]
  },
  {
   "cell_type": "code",
   "execution_count": null,
   "metadata": {},
   "outputs": [],
   "source": [
    "from pybatfish.client.asserts import *"
   ]
  },
  {
   "cell_type": "code",
   "execution_count": null,
   "metadata": {},
   "outputs": [],
   "source": [
    "TEST_SNAPSHOT=juniper_border\n",
    "\n",
    "# Allow incoming BGP sessions to be established\n",
    "assert_filter_permits(\n",
    "    filter_name='border',\n",
    "    headers=HeaderConstraints(\n",
    "        srcIps='@addressGroup(capirca, bgp_speakers)',\n",
    "        dstIps='@addressGroup(capirca, bgp_speakers)',\n",
    "        ipProtocols='tcp',\n",
    "        dstPorts=179),\n",
    "    snapshot=TEST_SNAPSHOT\n",
    ")\n",
    "\n",
    "# Allow reverse traffic for outgoing BGP sessions\n",
    "assert_filter_permits(\n",
    "    filter_name='border',\n",
    "    headers=HeaderConstraints(\n",
    "        srcIps='@addressGroup(capirca, bgp_speakers)',\n",
    "        dstIps='@addressGroup(capirca, bgp_speakers)',\n",
    "        ipProtocols='tcp',\n",
    "        srcPorts=179),\n",
    "    snapshot=TEST_SNAPSHOT\n",
    ")\n",
    "\n",
    "# Deny incoming BGP sessions to net_mtbb that are not from net_mtbb_peers\n",
    "assert_filter_denies(\n",
    "    filter_name='border',\n",
    "    headers=HeaderConstraints(\n",
    "        srcIps='0.0.0.0/0 \\ @addressGroup(capirca, bgp_speakers)',\n",
    "        dstIps='@addressGroup(capirca, bgp_speakers)',\n",
    "        ipProtocols='tcp',\n",
    "        dstPorts=179),\n",
    "    snapshot=TEST_SNAPSHOT\n",
    ")\n",
    "\n",
    "# Deny incoming new BGP sessions to everyone that is not an MTBB peer\n",
    "assert_filter_denies(\n",
    "    filter_name='border',\n",
    "    headers=HeaderConstraints(\n",
    "        srcIps='0.0.0.0/0',\n",
    "        dstIps='0.0.0.0/0 \\ @addressGroup(capirca, bgp_speakers)',\n",
    "        tcpFlags=MatchTcpFlags(tcpFlags=TcpFlags(syn=True, ack=False, rst=False), useSyn=True, useAck=True, useRst=True),\n",
    "        ipProtocols='tcp',\n",
    "        dstPorts=179),\n",
    "    snapshot=TEST_SNAPSHOT\n",
    ")"
   ]
  },
  {
   "cell_type": "code",
   "execution_count": null,
   "metadata": {},
   "outputs": [],
   "source": []
  }
 ],
 "metadata": {
  "kernelspec": {
   "display_name": "Python 3",
   "language": "python",
   "name": "python3"
  },
  "language_info": {
   "codemirror_mode": {
    "name": "ipython",
    "version": 3
   },
   "file_extension": ".py",
   "mimetype": "text/x-python",
   "name": "python",
   "nbconvert_exporter": "python",
   "pygments_lexer": "ipython3",
   "version": "3.7.2"
  }
 },
 "nbformat": 4,
 "nbformat_minor": 2
}
